{
 "cells": [
  {
   "cell_type": "markdown",
   "metadata": {},
   "source": [
    "<div style=\"font-family: 'Gen Jyuu Gothic Monospace Medium', 'Noto Sans TC', 'Inconsolata'; font-size: 600%; font-weight: 700; text-align: center; color: #A9B2DD;\">\n",
    "Describing Descriptors\n",
    "</div>\n",
    "\n",
    "<div style=\"font-family: 'Inconsolata', 'Noto Sans TC'; font-size: 135%; color: Gainsboro\">\n",
    "<!-- \n",
    "* ...\n",
    "* ... -->\n",
    "</div>\n",
    "<br><br>"
   ]
  },
  {
   "cell_type": "code",
   "execution_count": null,
   "metadata": {},
   "outputs": [],
   "source": [
    "%%javascript\n",
    "// Define a global color variable\n",
    "const mainColor = '#A9B2DD'; //LightSkyBlue';\n",
    "\n",
    "// Apply the color globally using CSS\n",
    "document.documentElement.style.setProperty('--main-color', mainColor);\n",
    "\n",
    "// Set output text color\n",
    "document.styleSheets[0].insertRule('body { color: var(--main-color) !important; }', 0);\n"
   ]
  },
  {
   "cell_type": "code",
   "execution_count": null,
   "metadata": {},
   "outputs": [],
   "source": [
    "print('Describing Descriptors')"
   ]
  },
  {
   "cell_type": "markdown",
   "metadata": {},
   "source": [
    "<div style=\"font-size: 150%; color:rgb(75, 150, 197); font-weight: 600;\">複習class的封裝保護層級</div>\n",
    "\n",
    "<div style=\"font-family: 'Inconsolata', 'Noto Sans TC'; font-size: 115%; color: DAE8E8; font-weight: 400; line-height: 130%\">\n",
    "\n",
    "* 封裝保護層級，是類別中的資料(屬性)和動作(方法)對外的可視程度。換句話說，也就是類別的外面是否能存取得到類別內的屬性和方法。\n",
    "* 封裝保護程度大體上分為三個層級：\n",
    "    * public(公開)：完全開放，可在物件外部自由存取，封裝層級最低。\n",
    "    * protected(保護)：僅物件本身及繼承該物件的子孫的內部才可存取，封裝層級中等。\n",
    "    * private(私有)：只有類別自身內部方可存取，封裝層級最高。\n",
    "* 三個層級的英文剛好都是以`p`開頭。\n",
    "* Python的封裝層級，表面上也有public / protected / private這三個`p's`。\n",
    "* 可是protected只是「約定俗成」，並未實際支援，所以實際上只有public和private兩層。\n",
    "    * public：名稱前無前綴底線。\n",
    "    * protected：名稱前綴一條底線。請記住這個層級只是「慣例」，Python的語法並無本功能。\n",
    "    * private：名稱前綴兩條底線。\n",
    "* 程式範例：\n"
   ]
  },
  {
   "cell_type": "code",
   "execution_count": null,
   "metadata": {},
   "outputs": [],
   "source": [
    "class Tree:\n",
    "    def __init__(self, breed, age, height):\n",
    "        self.breed = breed       # public:    名稱前面沒有底線(完全開放，無任何保護)\n",
    "        self._age = age          # protected: 前綴一條底線(僅約定俗成，無實質保護)\n",
    "        self.__height = height   # private:   前綴兩條底線(有實質保護)\n",
    "    def show_info(self):\n",
    "        print(f'  breed(public):   {self.breed}')\n",
    "        print(f'  age(protected):  {self._age}')\n",
    "        print(f'  height(private): {self.__height}')\n",
    "\n",
    "\n",
    "# Create an object(instance) based on class Tree.\n",
    "laozi = Tree('cedar', 2596, 59)   # 《老子》神木\n",
    "print('\\n• 透過呼叫laozi.show_info()方法取值。private屬性也可存取：')\n",
    "laozi.show_info()\n",
    "print('\\n• 用「物件.屬性」表示法取值。只能存取public和protected層級屬性：')\n",
    "print(f\"  laozi's breed(public): {laozi.breed}\")\n",
    "print(f\"  laozi's age(protected): {laozi._age}\")\n",
    "# print(f\"  laozi's height(private): {laozi.__height}\")"
   ]
  },
  {
   "cell_type": "markdown",
   "metadata": {},
   "source": [
    "<div style=\"font-size: 150%; color:rgb(75, 150, 197); font-weight: 600;\">公開的屬性使用起來非常方便</div>\n",
    "\n",
    "<div style=\"font-family: 'Inconsolata', 'Noto Sans TC'; font-size: 115%; color: DAE8E8; font-weight: 400; line-height: 130%\">\n",
    "\n",
    "* 很多人為求方便或並不了解保護層級的概念，在設計類別的時候，所有屬性一律設為公開。\n",
    "* 這樣的設計，所有使用者(這時已和類別設計者無關了)都可以在主程式以`物件.屬性`的方式存取物件本身的屬性，用起來很方便。\n",
    "* 屬性全部「公諸於世」的範例："
   ]
  },
  {
   "cell_type": "code",
   "execution_count": null,
   "metadata": {},
   "outputs": [
    {
     "name": "stdout",
     "output_type": "stream",
     "text": [
      "tree.breed=cedar               tree.age=3,250     tree.height=33\n",
      "tree.breed=oak                 tree.age=285       tree.height=19\n",
      "tree.breed=bristlecone pine    tree.age=4,854     tree.height=10\n"
     ]
    }
   ],
   "source": [
    "class Tree:\n",
    "    def __init__(self, breed: str, age: int, height: int):\n",
    "        self.breed = breed     # public attribute\n",
    "        self.age = age         # public attribute\n",
    "        self.height = height   # public attribute\n",
    "\n",
    "\n",
    "trees = []   # list of trees\n",
    "trees.append(Tree('cedar', 3_250, 33))              # 造一棵雪松\n",
    "trees.append(Tree('oak', 285, 19))                  # 造一棵橡樹\n",
    "trees.append(Tree('bristlecone pine', 4_854, 10))   # 造一棵刺果松\n",
    "# 目前只是「取值」，不會有甚麼問題。\n",
    "for tree in trees:\n",
    "    print(f'{tree.breed=:20}{tree.age=:<10,}{tree.height=}')"
   ]
  },
  {
   "cell_type": "markdown",
   "metadata": {},
   "source": [
    "<div style=\"font-size: 150%; color:rgb(75, 150, 197); font-weight: 600;\">公開的屬性沒有「防呆」功能</div>\n",
    "\n",
    "<div style=\"font-family: 'Inconsolata', 'Noto Sans TC'; font-size: 115%; color: DAE8E8; font-weight: 400; line-height: 130%\">\n",
    "\n",
    "* 有利就有弊，以上的設計固然便於使用，但會帶來風險：由於屬性都是「公開」，就有可能被使用者有意無意間破壞甚至毀掉。\n",
    "* 意思是：類別的屬性沒有「防呆」功能。\n",
    "* 如果再造一棵樟樹，傳入建構子的參數是樹齡600歲，樹高27公尺，本也屬合理範圍。\n",
    "* 其後問題來了，這位天馬行空的使用者以物件.屬性直接賦值，將樹齡改為30萬年，樹高為-50。30萬年的樟樹不變成「倩女幽魂」中的樹妖姥姥嗎？更不用提樹高竟然是負數了。"
   ]
  },
  {
   "cell_type": "code",
   "execution_count": null,
   "metadata": {},
   "outputs": [
    {
     "name": "stdout",
     "output_type": "stream",
     "text": [
      "camphor.breed=camphor     camphor.age=600         camphor.height=27\n",
      "camphor.breed=camphor     camphor.age=300,000     camphor.height=-50\n"
     ]
    }
   ],
   "source": [
    "camphor = Tree('camphor', 600, 27)   # 再造一棵樟樹。\n",
    "print(f'{camphor.breed=:12}{camphor.age=:<12,}{camphor.height=}')\n",
    "\n",
    "camphor.age = 300_000     # 樹妖姥姥\n",
    "camphor.height = -50      # 樹高為負要表達甚麼概念？\n",
    "# 糟糕的是資料真的改掉了。\n",
    "print(f'{camphor.breed=:12}{camphor.age=:<12,}{camphor.height=}')"
   ]
  },
  {
   "cell_type": "markdown",
   "metadata": {},
   "source": [
    "<div style=\"font-size: 150%; color:rgb(75, 150, 197); font-weight: 600;\">屬性最好設為私有</div>\n",
    "\n",
    "<div style=\"font-family: 'Inconsolata', 'Noto Sans TC'; font-size: 115%; color: DAE8E8; font-weight: 400; line-height: 130%\">\n",
    "\n",
    "* 當初類別的屬性全設為公開，就會埋下這種地雷。\n",
    "* 如果遵循最嚴格的封裝原則，class內的所有屬性都應該是私有："
   ]
  },
  {
   "cell_type": "code",
   "execution_count": null,
   "metadata": {},
   "outputs": [],
   "source": [
    "class Tree:\n",
    "    def __init__(self, breed: str, age: int, height: int):\n",
    "        self.__breed = breed        # private attribute\n",
    "        self.__age = age            # private attribute\n",
    "        self.__height = height      # private attribute\n"
   ]
  },
  {
   "cell_type": "markdown",
   "metadata": {},
   "source": [
    "<div style=\"font-size: 150%; color:rgb(75, 150, 197); font-weight: 600;\">透過公開方法存取私有屬性</div>\n",
    "\n",
    "<div style=\"font-family: 'Inconsolata', 'Noto Sans TC'; font-size: 115%; color: DAE8E8; font-weight: 400; line-height: 130%\">\n",
    "\n",
    "* 樹種、樣齡和樹高現在都設為private，保護得很好。\n",
    "* 不過以目前的code，物件一旦建立，屬性就固定無法改變。真要修改怎麼辦？\n",
    "* 所以我們還需要一些公開的方法，透過這些方法來存取物件內的私有屬性。\n",
    "* 這些存取私有屬性的方法，有時會稱為getters和setters。\n"
   ]
  },
  {
   "cell_type": "code",
   "execution_count": null,
   "metadata": {},
   "outputs": [],
   "source": [
    "class Tree:\n",
    "    def __init__(self, breed: str, age: int, height: int):\n",
    "        self.__breed = breed        # private attribute\n",
    "        self.__age = age            # private attribute\n",
    "        self.__height = height      # private attribute\n",
    "    def get_breed(self) -> str:         # public getter for breed\n",
    "        return self.__breed\n",
    "    def set_breed(self, breed: str):    # public setter for breed\n",
    "        self.__breed = breed\n",
    "    def get_age(self) -> int:           # public getter for age\n",
    "        return self.__age\n",
    "    def set_age(self, age: int):        # public setter for age\n",
    "        self.__age = age\n",
    "    def get_height(self) -> int:        # public getter for height\n",
    "        return self.__height\n",
    "    def set_height(self, height: int):  # public setter for height\n",
    "        self.__height = height"
   ]
  },
  {
   "cell_type": "markdown",
   "metadata": {},
   "source": [
    "<div style=\"font-size: 150%; color:rgb(75, 150, 197); font-weight: 600;\">透過公開方法存取私有屬性</div>\n",
    "\n",
    "<div style=\"font-family: 'Inconsolata', 'Noto Sans TC'; font-size: 115%; color: DAE8E8; font-weight: 400; line-height: 130%\">\n",
    "\n",
    "* 這樣設計的目的，是**透過公開窗口(方法)來管理私有屬性**，不能讓樹妖姥姥迫害聶小倩和寧采臣。\n",
    "* 以下的code展示如何透過公開的setters來更改私有屬性的值。\n"
   ]
  },
  {
   "cell_type": "code",
   "execution_count": null,
   "metadata": {},
   "outputs": [],
   "source": [
    "camphor = Tree('camphor', 600, 27)   # 造一棵樟樹。\n",
    "print(f'breed: {camphor.get_breed():<12}age: {camphor.get_age():<12,}height: {camphor.get_height():<12}')\n",
    "camphor.set_breed('cabbage')  # 透過公開的setter來更改私有屬性breed的值\n",
    "camphor.set_age(999_999)      # 透過公開的setter來更改私有屬性age的值\n",
    "camphor.set_height(-9)        # 透過公開的setter來更改私有屬性height的值\n",
    "print(f'breed: {camphor.get_breed():<12}age: {camphor.get_age():<12,}height: {camphor.get_height():<12}')"
   ]
  },
  {
   "cell_type": "markdown",
   "metadata": {},
   "source": [
    "<div style=\"font-size: 150%; color:rgb(75, 150, 197); font-weight: 600;\"></div>\n",
    "\n",
    "<div style=\"font-family: 'Inconsolata', 'Noto Sans TC'; font-size: 115%; color: DAE8E8; font-weight: 400; line-height: 130%\">\n",
    "\n",
    "* 您可能馬上會說，這不是多餘嗎？設了setters之後，資料還是一樣會錯得離譜呀。要setters何用？\n",
    "* 沒錯，如果setters像上面的code那樣，的確和最初的全公開屬性版，直接以物件.屬性方式賦值沒有差異。不只沒有用處，反而累贅。\n",
    "* setters當然不是沒用，而是上面的setters太過陽春，完全沒有過濾效果。\n",
    "* 改進一下之後，就不一樣了：\n"
   ]
  },
  {
   "cell_type": "code",
   "execution_count": null,
   "metadata": {},
   "outputs": [],
   "source": [
    "class Tree():\n",
    "    def __init__(self, breed, age, height):\n",
    "        self.__breed = breed\n",
    "        self.__age = age\n",
    "        self.__height = height\n",
    "    def get_age(self) -> int:      # public getter for age\n",
    "        return self.__age\n",
    "    def set_age(self, age: int):   # public setter for age\n",
    "        age_ranges = {'camphor': [0, 800], 'oak': [0, 300]}\n",
    "        if age < age_ranges[self.__breed][0] or age > age_ranges[self.__breed][1]:\n",
    "            raise Exception('樹齡數字不合理。')\n",
    "        else:  # 放行\n",
    "            self.__age = age"
   ]
  },
  {
   "cell_type": "markdown",
   "metadata": {},
   "source": [
    "<div style=\"font-size: 150%; color:rgb(75, 150, 197); font-weight: 600;\">...</div>\n",
    "\n",
    "<div style=\"font-family: 'Inconsolata', 'Noto Sans TC'; font-size: 115%; color: DAE8E8; font-weight: 400; line-height: 130%\">\n",
    "\n",
    "* 這次類別內的set_age()加入了條件，用以過濾不合理的資料。為了簡潔聚焦，上面只示範set_age()，set_breed()和set_height()略過。\n",
    "* 主程式如果傳入不合理的樹齡數字：\n"
   ]
  },
  {
   "cell_type": "code",
   "execution_count": null,
   "metadata": {},
   "outputs": [],
   "source": [
    "camphor = Tree(\"camphor\", 50, 37)\n",
    "print(f\"before set_age(): {camphor.get_age()=}\")\n",
    "try:\n",
    "    camphor.set_age(3_000)   # 傳入超出合理範圍的值。\n",
    "except Exception as e:\n",
    "    print(e)\n",
    "print(f\"after set_age() : {camphor.get_age()=}\")"
   ]
  },
  {
   "cell_type": "code",
   "execution_count": null,
   "metadata": {},
   "outputs": [],
   "source": [
    "# 傳給set_age()的參數在合理範圍之內時：\n",
    "camphor = Tree(\"camphor\", 50, 37)\n",
    "print(f\"before set_age(): {camphor.get_age()=}\")\n",
    "try:\n",
    "    camphor.set_age(145)    # 這次傳入在合理範圍以內的值給set_age()\n",
    "except Exception as e:\n",
    "    print(e)\n",
    "print(f\"after set_age() : {camphor.get_age()=}\")\n",
    "# 結果成功修改了age屬性的值。"
   ]
  },
  {
   "cell_type": "markdown",
   "metadata": {},
   "source": [
    "<div style=\"font-size: 150%; color:rgb(75, 150, 197); font-weight: 600;\">...</div>\n",
    "\n",
    "<div style=\"font-family: 'Inconsolata', 'Noto Sans TC'; font-size: 115%; color: DAE8E8; font-weight: 400; line-height: 130%\">\n",
    "\n",
    "* 事實上setters的控制可以更加精密嚴謹，例如除數字範圍外，說不定還可以偵測當時的時間，正常上班以外的時間都不允許程式修改資料，或者任何想得到做得到的檢查控制邏輯，都可以放入setters中。\n",
    "* 這樣設計，是否就比將屬性設為public，交由完全沒有攔阻功能的`物件.屬性 = ???`直接賦值安全多了？\n",
    "* 個人認為，這是OO中encapsulation「封裝」的精義。\n",
    "* 愚見：個人或團隊開發的系統，不一定要封裝得如些嚴密。但如果是開發給別人使用的套件或模組，就得非常慎重，做好妨呆兼妨災工作。\n",
    "\n",
    "## 小總結\n",
    "\n",
    "* Python類別的屬性和方法都有public公開和private私有兩個封裝層級。至於protected這層，只是約定俗成，不提也罷。\n",
    "* 公開的屬性和方法是開放給外部，以**物件.屬性**或**物件.方法**表示式存取。其名稱無前綴底線。\n",
    "* 私有的屬性和方法僅供類別內部享用，不可以用**物件.屬性**或**物件.方法**的方式在外部存取。\n",
    "* 比較特別的是，Python的私有屬性和方法都有個「後門」，知道門道者依然可以外部存取。不過除非確有需要，筆者並不建議走此後門。\n",
    "* 屬性請多用private，方法則多用public。\n",
    "* ..."
   ]
  },
  {
   "cell_type": "code",
   "execution_count": null,
   "metadata": {},
   "outputs": [],
   "source": [
    "class Tree:\n",
    "    def show_tree1():\n",
    "        return 'show_tree1()'\n",
    "    def show_tree2(self):\n",
    "        return 'show_tree2()'\n",
    "\n",
    "print(1, Tree.show_tree1())\n",
    "print(2, Tree().show_tree1())\n",
    "print(3, Tree.show_tree2())\n",
    "print(4, Tree().show_tree2())\n",
    "\n",
    "# 以上4行code哪些會產生Exception？\n",
    "# A) 1, 2\n",
    "# B) 1, 3\n",
    "# C) 1, 4\n",
    "# D) 2, 3\n",
    "# E) 2, 4\n",
    "# F) 3, 4"
   ]
  },
  {
   "cell_type": "markdown",
   "metadata": {},
   "source": [
    "<div style=\"font-size: 150%; color:rgb(75, 150, 197); font-weight: 600;\">...</div>\n",
    "\n",
    "<div style=\"font-family: 'Inconsolata', 'Noto Sans TC'; font-size: 115%; color: DAE8E8; font-weight: 400; line-height: 130%\">\n",
    "\n",
    "* ...\n",
    "* ..."
   ]
  },
  {
   "cell_type": "markdown",
   "metadata": {},
   "source": [
    "<div style=\"font-size: 150%; color:rgb(75, 150, 197); font-weight: 600;\">...</div>\n",
    "\n",
    "<div style=\"font-family: 'Inconsolata', 'Noto Sans TC'; font-size: 115%; color: DAE8E8; font-weight: 400; line-height: 130%\">\n",
    "\n",
    "* ...\n",
    "* ..."
   ]
  },
  {
   "cell_type": "markdown",
   "metadata": {},
   "source": [
    "<div style=\"font-size: 150%; color:rgb(75, 150, 197); font-weight: 600;\">...</div>\n",
    "\n",
    "<div style=\"font-family: 'Inconsolata', 'Noto Sans TC'; font-size: 115%; color: DAE8E8; font-weight: 400; line-height: 130%\">\n",
    "\n",
    "* ...\n",
    "* ..."
   ]
  },
  {
   "cell_type": "markdown",
   "metadata": {},
   "source": [
    "<div style=\"font-size: 150%; color:rgb(75, 150, 197); font-weight: 600;\">...</div>\n",
    "\n",
    "<div style=\"font-family: 'Inconsolata', 'Noto Sans TC'; font-size: 115%; color: DAE8E8; font-weight: 400; line-height: 130%\">\n",
    "\n",
    "* ...\n",
    "* ..."
   ]
  },
  {
   "cell_type": "markdown",
   "metadata": {},
   "source": [
    "<div style=\"font-size: 150%; color:rgb(75, 150, 197); font-weight: 600;\">...</div>\n",
    "\n",
    "<div style=\"font-family: 'Inconsolata', 'Noto Sans TC'; font-size: 115%; color: DAE8E8; font-weight: 400; line-height: 130%\">\n",
    "\n",
    "* ...\n",
    "* ..."
   ]
  },
  {
   "cell_type": "markdown",
   "metadata": {},
   "source": [
    "<div style=\"font-size: 150%; color:rgb(75, 150, 197); font-weight: 600;\">...</div>\n",
    "\n",
    "<div style=\"font-family: 'Inconsolata', 'Noto Sans TC'; font-size: 115%; color: DAE8E8; font-weight: 400; line-height: 130%\">\n",
    "\n",
    "* ...\n",
    "* ..."
   ]
  },
  {
   "cell_type": "markdown",
   "metadata": {},
   "source": [
    "<div style=\"font-size: 150%; color:rgb(75, 150, 197); font-weight: 600;\">...</div>\n",
    "\n",
    "<div style=\"font-family: 'Inconsolata', 'Noto Sans TC'; font-size: 115%; color: DAE8E8; font-weight: 400; line-height: 130%\">\n",
    "\n",
    "* ...\n",
    "* ..."
   ]
  },
  {
   "cell_type": "markdown",
   "metadata": {},
   "source": [
    "<div style=\"font-size: 150%; color:rgb(75, 150, 197); font-weight: 600;\">...</div>\n",
    "\n",
    "<div style=\"font-family: 'Inconsolata', 'Noto Sans TC'; font-size: 115%; color: DAE8E8; font-weight: 400; line-height: 130%\">\n",
    "\n",
    "* ...\n",
    "* ..."
   ]
  },
  {
   "cell_type": "markdown",
   "metadata": {},
   "source": [
    "<div style=\"font-size: 150%; color:rgb(75, 150, 197); font-weight: 600;\">...</div>\n",
    "\n",
    "<div style=\"font-family: 'Inconsolata', 'Noto Sans TC'; font-size: 115%; color: DAE8E8; font-weight: 400; line-height: 130%\">\n",
    "\n",
    "* ...\n",
    "* ..."
   ]
  },
  {
   "cell_type": "markdown",
   "metadata": {},
   "source": [
    "<div style=\"font-size: 150%; color:rgb(75, 150, 197); font-weight: 600;\">...</div>\n",
    "\n",
    "<div style=\"font-family: 'Inconsolata', 'Noto Sans TC'; font-size: 115%; color: DAE8E8; font-weight: 400; line-height: 130%\">\n",
    "\n",
    "* ...\n",
    "* ..."
   ]
  },
  {
   "cell_type": "markdown",
   "metadata": {},
   "source": [
    "<div style=\"font-size: 150%; color:rgb(75, 150, 197); font-weight: 600;\">...</div>\n",
    "\n",
    "<div style=\"font-family: 'Inconsolata', 'Noto Sans TC'; font-size: 115%; color: DAE8E8; font-weight: 400; line-height: 130%\">\n",
    "\n",
    "* ...\n",
    "* ..."
   ]
  },
  {
   "cell_type": "markdown",
   "metadata": {},
   "source": [
    "<div style=\"font-size: 150%; color:rgb(75, 150, 197); font-weight: 600;\">...</div>\n",
    "\n",
    "<div style=\"font-family: 'Inconsolata', 'Noto Sans TC'; font-size: 115%; color: DAE8E8; font-weight: 400; line-height: 130%\">\n",
    "\n",
    "* ...\n",
    "* ..."
   ]
  },
  {
   "cell_type": "markdown",
   "metadata": {},
   "source": [
    "<div style=\"font-size: 150%; color:rgb(75, 150, 197); font-weight: 600;\">...</div>\n",
    "\n",
    "<div style=\"font-family: 'Inconsolata', 'Noto Sans TC'; font-size: 115%; color: DAE8E8; font-weight: 400; line-height: 130%\">\n",
    "\n",
    "* ...\n",
    "* ..."
   ]
  },
  {
   "cell_type": "markdown",
   "metadata": {},
   "source": [
    "<div style=\"font-size: 150%; color:rgb(75, 150, 197); font-weight: 600;\">...</div>\n",
    "\n",
    "<div style=\"font-family: 'Inconsolata', 'Noto Sans TC'; font-size: 115%; color: DAE8E8; font-weight: 400; line-height: 130%\">\n",
    "\n",
    "* ...\n",
    "* ..."
   ]
  },
  {
   "cell_type": "markdown",
   "metadata": {},
   "source": [
    "<div style=\"font-size: 150%; color:rgb(75, 150, 197); font-weight: 600;\">...</div>\n",
    "\n",
    "<div style=\"font-family: 'Inconsolata', 'Noto Sans TC'; font-size: 115%; color: DAE8E8; font-weight: 400; line-height: 130%\">\n",
    "\n",
    "* ...\n",
    "* ..."
   ]
  },
  {
   "cell_type": "markdown",
   "metadata": {},
   "source": [
    "<div style=\"font-size: 150%; color:rgb(75, 150, 197); font-weight: 600;\">...</div>\n",
    "\n",
    "<div style=\"font-family: 'Inconsolata', 'Noto Sans TC'; font-size: 115%; color: DAE8E8; font-weight: 400; line-height: 130%\">\n",
    "\n",
    "* ...\n",
    "* ..."
   ]
  },
  {
   "cell_type": "markdown",
   "metadata": {},
   "source": [
    "<div style=\"font-size: 150%; color:rgb(75, 150, 197); font-weight: 600;\">...</div>\n",
    "\n",
    "<div style=\"font-family: 'Inconsolata', 'Noto Sans TC'; font-size: 115%; color: DAE8E8; font-weight: 400; line-height: 130%\">\n",
    "\n",
    "* ...\n",
    "* ..."
   ]
  },
  {
   "cell_type": "markdown",
   "metadata": {},
   "source": [
    "<div style=\"font-size: 150%; color:rgb(75, 150, 197); font-weight: 600;\">...</div>\n",
    "\n",
    "<div style=\"font-family: 'Inconsolata', 'Noto Sans TC'; font-size: 115%; color: DAE8E8; font-weight: 400; line-height: 130%\">\n",
    "\n",
    "* ...\n",
    "* ..."
   ]
  },
  {
   "cell_type": "markdown",
   "metadata": {},
   "source": [
    "<div style=\"font-size: 150%; color:rgb(75, 150, 197); font-weight: 600;\">...</div>\n",
    "\n",
    "<div style=\"font-family: 'Inconsolata', 'Noto Sans TC'; font-size: 115%; color: DAE8E8; font-weight: 400; line-height: 130%\">\n",
    "\n",
    "* ...\n",
    "* ..."
   ]
  },
  {
   "cell_type": "markdown",
   "metadata": {},
   "source": [
    "<div style=\"font-size: 150%; color:rgb(75, 150, 197); font-weight: 600;\">...</div>\n",
    "\n",
    "<div style=\"font-family: 'Inconsolata', 'Noto Sans TC'; font-size: 115%; color: DAE8E8; font-weight: 400; line-height: 130%\">\n",
    "\n",
    "* ...\n",
    "* ..."
   ]
  },
  {
   "cell_type": "markdown",
   "metadata": {},
   "source": [
    "<div style=\"color: SteelBlue; font-family: 'Ubuntu Mono', 'Inconsolata', 'Noto Sans TC'; font-size: 300%; font-weight: 700;\">\n",
    "...\n",
    "</div>\n",
    "<br>\n",
    "<div style=\"font-family: 'Inconsolata', 'Noto Sans TC'; font-size: 135%; color: Gainsboro\">\n",
    "\n",
    "* ...\n",
    "* ...\n",
    "* ..."
   ]
  },
  {
   "cell_type": "markdown",
   "metadata": {},
   "source": [
    "<div style=\"font-size: 150%; color:rgb(75, 150, 197); font-weight: 600;\">...</div>\n",
    "\n",
    "<div style=\"font-family: 'Inconsolata', 'Noto Sans TC'; font-size: 115%; color: DAE8E8; font-weight: 400; line-height: 130%\">\n",
    "\n",
    "* ...\n",
    "* ..."
   ]
  },
  {
   "cell_type": "code",
   "execution_count": null,
   "metadata": {},
   "outputs": [],
   "source": [
    "class TypedProperty:\n",
    "    def __init__(self, name, type_, default=None):\n",
    "        self.name = \"_\" + name\n",
    "        # print(f'{self.name = }')\n",
    "        self.type = type_\n",
    "        self.default = default if default else type_()\n",
    "        print(f'{self.default = }')\n",
    "\n",
    "    def __get__(self, instance, cls):\n",
    "        return getattr(instance, self.name, self.default)\n",
    "\n",
    "    def __set__(self, instance, value):\n",
    "        if not isinstance(value, self.type):\n",
    "            raise TypeError(f\"Value must be of type {self.type.__name__}\")\n",
    "        setattr(instance, self.name, value)\n",
    "\n",
    "class MyClass:\n",
    "    name = TypedProperty(\"name\", str, int)\n",
    "    age = TypedProperty(\"age\", int)\n",
    "\n",
    "my_instance = MyClass()\n",
    "my_instance.name = \"Alex\"\n",
    "my_instance.age = 30\n",
    "\n",
    "my_instance.name"
   ]
  },
  {
   "cell_type": "code",
   "execution_count": null,
   "metadata": {},
   "outputs": [],
   "source": [
    "str()\n",
    "int()"
   ]
  },
  {
   "cell_type": "markdown",
   "metadata": {},
   "source": [
    "<div style=\"font-size: 150%; color:rgb(75, 150, 197); font-weight: 600;\">...</div>\n",
    "\n",
    "<div style=\"font-family: 'Inconsolata', 'Noto Sans TC'; font-size: 115%; color: DAE8E8; font-weight: 400; line-height: 130%\">\n",
    "\n",
    "* ...\n",
    "* ..."
   ]
  },
  {
   "cell_type": "markdown",
   "metadata": {},
   "source": [
    "<div style=\"font-size: 150%; color:rgb(75, 150, 197); font-weight: 600;\">...</div>\n",
    "\n",
    "<div style=\"font-family: 'Inconsolata', 'Noto Sans TC'; font-size: 115%; color: DAE8E8; font-weight: 400; line-height: 130%\">\n",
    "\n",
    "* ...\n",
    "* ..."
   ]
  },
  {
   "cell_type": "code",
   "execution_count": null,
   "metadata": {},
   "outputs": [],
   "source": [
    "def log_function(func):\n",
    "    import math\n",
    "    # print(func.__name__)\n",
    "    def wrapper(*args, **kwargs):\n",
    "        print(f'{type(func.__name__) = }')\n",
    "        result = func(*args, **kwargs)\n",
    "        # print(f'{func.__name__} returned {result}')\n",
    "        return result\n",
    "    return wrapper\n",
    "\n",
    "@log_function\n",
    "def add(x, y):\n",
    "    return x + y\n",
    "\n",
    "\n",
    "print(add(5,7))"
   ]
  },
  {
   "cell_type": "markdown",
   "metadata": {},
   "source": [
    "<div style=\"font-size: 150%; color:rgb(75, 150, 197); font-weight: 600;\">...</div>\n",
    "\n",
    "<div style=\"font-family: 'Inconsolata', 'Noto Sans TC'; font-size: 115%; color: DAE8E8; font-weight: 400; line-height: 130%\">\n",
    "\n",
    "* ...\n",
    "* ..."
   ]
  },
  {
   "cell_type": "markdown",
   "metadata": {},
   "source": [
    "<div style=\"font-size: 150%; color:rgb(75, 150, 197); font-weight: 600;\">...</div>\n",
    "\n",
    "<div style=\"font-family: 'Inconsolata', 'Noto Sans TC'; font-size: 115%; color: DAE8E8; font-weight: 400; line-height: 130%\">\n",
    "\n",
    "* ...\n",
    "* ..."
   ]
  },
  {
   "cell_type": "code",
   "execution_count": null,
   "metadata": {},
   "outputs": [],
   "source": []
  },
  {
   "cell_type": "markdown",
   "metadata": {},
   "source": [
    "<div style=\"font-size: 150%; color:rgb(75, 150, 197); font-weight: 600;\">...</div>\n",
    "\n",
    "<div style=\"font-family: 'Inconsolata', 'Noto Sans TC'; font-size: 115%; color: DAE8E8; font-weight: 400; line-height: 130%\">\n",
    "\n",
    "* ...\n",
    "* ..."
   ]
  },
  {
   "cell_type": "markdown",
   "metadata": {},
   "source": [
    "<div style=\"font-size: 150%; color:rgb(75, 150, 197); font-weight: 600;\">...</div>\n",
    "\n",
    "<div style=\"font-family: 'Inconsolata', 'Noto Sans TC'; font-size: 115%; color: DAE8E8; font-weight: 400; line-height: 130%\">\n",
    "\n",
    "* ...\n",
    "* ..."
   ]
  },
  {
   "cell_type": "code",
   "execution_count": null,
   "metadata": {},
   "outputs": [],
   "source": []
  },
  {
   "cell_type": "markdown",
   "metadata": {},
   "source": [
    "<div style=\"font-size: 150%; color:rgb(75, 150, 197); font-weight: 600;\">...</div>\n",
    "\n",
    "<div style=\"font-family: 'Inconsolata', 'Noto Sans TC'; font-size: 115%; color: DAE8E8; font-weight: 400; line-height: 130%\">\n",
    "\n",
    "* ...\n",
    "* ..."
   ]
  },
  {
   "cell_type": "markdown",
   "metadata": {},
   "source": [
    "<div style=\"font-size: 150%; color:rgb(75, 150, 197); font-weight: 600;\">...</div>\n",
    "\n",
    "<div style=\"font-family: 'Inconsolata', 'Noto Sans TC'; font-size: 115%; color: DAE8E8; font-weight: 400; line-height: 130%\">\n",
    "\n",
    "* ...\n",
    "* ..."
   ]
  },
  {
   "cell_type": "code",
   "execution_count": null,
   "metadata": {},
   "outputs": [],
   "source": []
  },
  {
   "cell_type": "markdown",
   "metadata": {},
   "source": [
    "<div style=\"font-size: 150%; color:rgb(75, 150, 197); font-weight: 600;\">...</div>\n",
    "\n",
    "<div style=\"font-family: 'Inconsolata', 'Noto Sans TC'; font-size: 115%; color: DAE8E8; font-weight: 400; line-height: 130%\">\n",
    "\n",
    "* ...\n",
    "* ..."
   ]
  }
 ],
 "metadata": {
  "kernelspec": {
   "display_name": "Python 3",
   "language": "python",
   "name": "python3"
  },
  "language_info": {
   "codemirror_mode": {
    "name": "ipython",
    "version": 3
   },
   "file_extension": ".py",
   "mimetype": "text/x-python",
   "name": "python",
   "nbconvert_exporter": "python",
   "pygments_lexer": "ipython3",
   "version": "3.12.8"
  }
 },
 "nbformat": 4,
 "nbformat_minor": 2
}

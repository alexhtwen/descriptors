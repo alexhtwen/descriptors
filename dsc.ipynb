{
 "cells": [
  {
   "cell_type": "markdown",
   "metadata": {},
   "source": [
    "<div style=\"font-family: 'Gen Jyuu Gothic Monospace Medium', 'Noto Sans TC', 'Inconsolata'; font-size: 750%; font-weight: 700; text-align: center; color: #A9B2DD;\">\n",
    "Describing Descriptors\n",
    "</div>\n",
    "\n",
    "<div style=\"font-family: 'Inconsolata', 'Noto Sans TC'; font-size: 135%; color: Gainsboro\">\n",
    "<!-- \n",
    "* ...\n",
    "* ... -->\n",
    "</div>\n",
    "<br><br>"
   ]
  },
  {
   "cell_type": "code",
   "execution_count": null,
   "metadata": {},
   "outputs": [],
   "source": [
    "%%javascript\n",
    "// Define a global color variable\n",
    "const mainColor = '#A9B2DD'; //LightSkyBlue';\n",
    "\n",
    "// Apply the color globally using CSS\n",
    "document.documentElement.style.setProperty('--main-color', mainColor);\n",
    "\n",
    "// Set output text color\n",
    "document.styleSheets[0].insertRule('body { color: var(--main-color) !important; }', 0);"
   ]
  },
  {
   "cell_type": "code",
   "execution_count": null,
   "metadata": {},
   "outputs": [],
   "source": [
    "print('Describing Descriptors')"
   ]
  },
  {
   "cell_type": "markdown",
   "metadata": {},
   "source": [
    "<div style=\"font-size: 150%; color:rgb(75, 150, 197); font-weight: 600;\">複習class的封裝保護層級</div>\n",
    "\n",
    "<div style=\"font-family: 'Inconsolata', 'Noto Sans TC'; font-size: 115%; color: DAE8E8; font-weight: 400; line-height: 130%\">\n",
    "\n",
    "* 封裝保護層級，是類別中的資料(屬性)和動作(方法)對外的可視程度。換句話說，也就是類別的外面是否能存取得到類別內的屬性和方法。\n",
    "* 封裝保護程度大體上分為三個層級：\n",
    "    * public(公開)：完全開放，可在物件外部自由存取，封裝層級最低。\n",
    "    * protected(保護)：僅物件本身及繼承該物件的子孫的內部才可存取，封裝層級中等。\n",
    "    * private(私有)：只有類別自身內部方可存取，封裝層級最高。\n",
    "* 三個層級的英文剛好都是以`p`開頭。\n",
    "* Python的封裝層級，表面上也有public / protected / private這三個`p's`。\n",
    "* 可是protected只是「約定俗成」，並未實際支援，所以實際上只有public和private兩層。\n",
    "    * public：名稱前無前綴底線。\n",
    "    * protected：名稱前綴一條底線。請記住這個層級只是「慣例」，Python的語法並無本功能。\n",
    "    * private：名稱前綴兩條底線。\n",
    "* 程式範例：\n"
   ]
  },
  {
   "cell_type": "code",
   "execution_count": null,
   "metadata": {},
   "outputs": [
    {
     "name": "stdout",
     "output_type": "stream",
     "text": [
      "用「物件.屬性」表示法取值。只能存取public和protected層級屬性：\n",
      "  laozi's breed(public): cedar\n",
      "  laozi's age(protected): 2596\n"
     ]
    }
   ],
   "source": [
    "class Tree:\n",
    "    def __init__(self, breed, age, height):\n",
    "        self.breed = breed       # public:    名稱前面沒有底線(完全開放，無任何保護)\n",
    "        self._age = age          # protected: 前綴一條底線(僅約定俗成，無實質保護)\n",
    "        self.__height = height   # private:   前綴兩條底線(有實質保護)\n",
    "\n",
    "\n",
    "# Create an object(instance) based on class Tree.\n",
    "laozi = Tree('cedar', 2596, 59)   # 《老子》神木\n",
    "\n",
    "print('用「物件.屬性」表示法取值，只能存取public和protected層級屬性：')\n",
    "print(f\"  laozi's breed(public): {laozi.breed}\")\n",
    "print(f\"  laozi's age(protected): {laozi._age}\")\n",
    "# print(f\"  laozi's height(private): {laozi.__height}\")"
   ]
  },
  {
   "cell_type": "markdown",
   "metadata": {},
   "source": [
    "<div style=\"font-size: 150%; color:rgb(75, 150, 197); font-weight: 600;\">公開的屬性使用起來非常方便</div>\n",
    "\n",
    "<div style=\"font-family: 'Inconsolata', 'Noto Sans TC'; font-size: 115%; color: DAE8E8; font-weight: 400; line-height: 130%\">\n",
    "\n",
    "* 由於私有屬性無法以`物件.屬性`方式存取，很多人為求方便或並不了解保護層級的概念，在設計類別的時候，所有屬性一律設為公開。\n",
    "* 這樣的設計，所有使用者(這時已和類別設計者無關了)都可以在主程式以`物件.屬性`的方式存取物件本身的屬性，用起來很方便。\n",
    "* 屬性全部「公諸於世」的範例："
   ]
  },
  {
   "cell_type": "code",
   "execution_count": 60,
   "metadata": {},
   "outputs": [
    {
     "name": "stdout",
     "output_type": "stream",
     "text": [
      "tree.breed=cedar               tree.age=3,250     tree.height=33\n",
      "tree.breed=oak                 tree.age=285       tree.height=19\n",
      "tree.breed=bristlecone pine    tree.age=4,854     tree.height=10\n"
     ]
    }
   ],
   "source": [
    "class Tree:\n",
    "    def __init__(self, breed: str, age: int, height: int):\n",
    "        self.breed = breed     # public attribute\n",
    "        self.age = age         # public attribute\n",
    "        self.height = height   # public attribute\n",
    "\n",
    "\n",
    "trees = []   # list of trees\n",
    "trees.append(Tree('cedar', 3_250, 33))              # 造一棵雪松\n",
    "trees.append(Tree('oak', 285, 19))                  # 造一棵橡樹\n",
    "trees.append(Tree('bristlecone pine', 4_854, 10))   # 造一棵刺果松\n",
    "# 目前只是「取值」，不會有甚麼問題。\n",
    "for tree in trees:\n",
    "    print(f'{tree.breed=:20}{tree.age=:<10,}{tree.height=}')"
   ]
  },
  {
   "cell_type": "markdown",
   "metadata": {},
   "source": [
    "<div style=\"font-size: 150%; color:rgb(75, 150, 197); font-weight: 600;\">公開的屬性沒有「防呆」功能</div>\n",
    "\n",
    "<div style=\"font-family: 'Inconsolata', 'Noto Sans TC'; font-size: 115%; color: DAE8E8; font-weight: 400; line-height: 130%\">\n",
    "\n",
    "* 有利就有弊，以上的設計固然便於使用，但會帶來風險：由於屬性都是「公開」，就有可能被使用者有意無意間破壞甚至毀掉。\n",
    "* 所以屬性都公開的話，就沒有「防呆」和「保護」功能。\n",
    "* 例如：再造一棵樟樹，傳入constructor(建構子)的參數是樹齡600歲，樹高27公尺，屬合理範圍。\n",
    "* 問題來了。其後一個天馬行空的programmer以`物件.屬性`方式賦值，將樹齡改為30萬年，樹高改為-50。30萬年的樟樹不就變成「倩女幽魂」中的樹妖姥姥嗎？更不用提樹高竟然是負數了。"
   ]
  },
  {
   "cell_type": "code",
   "execution_count": null,
   "metadata": {},
   "outputs": [
    {
     "name": "stdout",
     "output_type": "stream",
     "text": [
      "camphor.breed=camphor     camphor.age=600         camphor.height=27\n",
      "camphor.breed=camphor     camphor.age=300,000     camphor.height=-50\n"
     ]
    }
   ],
   "source": [
    "camphor = Tree('camphor', 600, 27)   # 再造一棵樟樹。\n",
    "print(f'{camphor.breed=:12}{camphor.age=:<12,}{camphor.height=}')\n",
    "\n",
    "camphor.age = 300_000     # 樹妖姥姥\n",
    "camphor.height = -50      # 樹高為負要表達甚麼概念？\n",
    "# 糟糕的是資料真的改掉了。\n",
    "print(f'{camphor.breed=:12}{camphor.age=:<12,}{camphor.height=}')"
   ]
  },
  {
   "cell_type": "markdown",
   "metadata": {},
   "source": [
    "<div style=\"font-size: 150%; color:rgb(75, 150, 197); font-weight: 600;\">屬性最好設為私有</div>\n",
    "\n",
    "<div style=\"font-family: 'Inconsolata', 'Noto Sans TC'; font-size: 115%; color: DAE8E8; font-weight: 400; line-height: 130%\">\n",
    "\n",
    "* 當初類別的屬性全設為公開，就會埋下這種地雷。\n",
    "* 如果遵循最嚴格的封裝原則，class內的所有屬性都應該是私有："
   ]
  },
  {
   "cell_type": "code",
   "execution_count": 56,
   "metadata": {},
   "outputs": [],
   "source": [
    "class Tree:\n",
    "    def __init__(self, breed: str, age: int, height: int):\n",
    "        self.__breed = breed        # private attribute\n",
    "        self.__age = age            # private attribute\n",
    "        self.__height = height      # private attribute"
   ]
  },
  {
   "cell_type": "markdown",
   "metadata": {},
   "source": [
    "<div style=\"font-size: 150%; color:rgb(75, 150, 197); font-weight: 600;\">透過公開方法存取私有屬性-1</div>\n",
    "\n",
    "<div style=\"font-family: 'Inconsolata', 'Noto Sans TC'; font-size: 115%; color: DAE8E8; font-weight: 400; line-height: 130%\">\n",
    "\n",
    "* 樹種、樣齡和樹高現在都設為private，保護得很好。\n",
    "* 可是以目前的code，物件一旦建立，屬性就無法改變。真要修改該怎麼辦？\n",
    "* 顯然我們需要一個機制來解決這個問題。最直觀的做法，就是建立一些公開的方法，用以存取私有屬性。\n",
    "* 這些存取私有屬性的公開方法，通常稱為`getters`和`setters`。"
   ]
  },
  {
   "cell_type": "code",
   "execution_count": null,
   "metadata": {},
   "outputs": [],
   "source": [
    "class Tree:\n",
    "    def __init__(self, breed: str, age: int, height: int):\n",
    "        self.__breed = breed        # private attribute\n",
    "        self.__age = age            # private attribute\n",
    "        self.__height = height      # private attribute\n",
    "    def get_breed(self) -> str:         # public getter for breed\n",
    "        return self.__breed\n",
    "    def set_breed(self, breed: str):    # public setter for breed\n",
    "        self.__breed = breed\n",
    "    def get_age(self) -> int:           # public getter for age\n",
    "        return self.__age\n",
    "    def set_age(self, age: int):        # public setter for age\n",
    "        self.__age = age\n",
    "    def get_height(self) -> int:        # public getter for height\n",
    "        return self.__height\n",
    "    def set_height(self, height: int):  # public setter for height\n",
    "        self.__height = height"
   ]
  },
  {
   "cell_type": "markdown",
   "metadata": {},
   "source": [
    "<div style=\"font-size: 150%; color:rgb(75, 150, 197); font-weight: 600;\">透過公開方法存取私有屬性-2</div>\n",
    "\n",
    "<div style=\"font-family: 'Inconsolata', 'Noto Sans TC'; font-size: 115%; color: DAE8E8; font-weight: 400; line-height: 130%\">\n",
    "\n",
    "* 這樣設計的目的，是<font color=gold>透過公開窗口(方法)來管理私有屬性</font>，不能讓樹妖姥姥迫害聶小倩和寧采臣。\n",
    "* 以下的code展示如何透過公開的setters來更改私有屬性的值。\n"
   ]
  },
  {
   "cell_type": "code",
   "execution_count": 63,
   "metadata": {},
   "outputs": [
    {
     "name": "stdout",
     "output_type": "stream",
     "text": [
      "breed: camphor     age: 600         height: 27          \n",
      "breed: cabbage     age: 999,999     height: -9          \n"
     ]
    }
   ],
   "source": [
    "camphor = Tree('camphor', 600, 27)   # 造一棵樟樹。\n",
    "print(f'breed: {camphor.get_breed():<12}age: {camphor.get_age():<12,}height: {camphor.get_height():<12}')\n",
    "camphor.set_breed('cabbage')  # 透過公開的setter來更改私有屬性breed的值\n",
    "camphor.set_age(999_999)      # 透過公開的setter來更改私有屬性age的值\n",
    "camphor.set_height(-9)        # 透過公開的setter來更改私有屬性height的值\n",
    "print(f'breed: {camphor.get_breed():<12}age: {camphor.get_age():<12,}height: {camphor.get_height():<12}')"
   ]
  },
  {
   "cell_type": "markdown",
   "metadata": {},
   "source": [
    "<div style=\"font-size: 150%; color:rgb(75, 150, 197); font-weight: 600;\">透過公開方法存取私有屬性-3</div>\n",
    "\n",
    "<div style=\"font-family: 'Inconsolata', 'Noto Sans TC'; font-size: 115%; color: DAE8E8; font-weight: 400; line-height: 130%\">\n",
    "\n",
    "* 您可能馬上會說，這不是多餘嗎？設了setters之後，資料還是一樣會錯得離譜呀。要setters何用？\n",
    "* 沒錯，如果setters像上面的code那樣，的確和最初「公開屬性，以`物件.屬性`賦值」的寫法沒有差異。不只沒有用處，反而累贅。\n",
    "* 實際上，setters當然不是沒用，而是上面的setters太過陽春，顯現不出效果。\n",
    "* 改進一下之後，就會不一樣了："
   ]
  },
  {
   "cell_type": "code",
   "execution_count": null,
   "metadata": {},
   "outputs": [],
   "source": [
    "class Tree:\n",
    "    def __init__(self, breed: str, age: int, height: int):\n",
    "        self.__breed = breed       # private\n",
    "        self.__age = 0             # 註1\n",
    "        self.set_age(age)          # private\n",
    "        self.__height = height     # private\n",
    "    def get_age(self) -> int:      # public getter for age\n",
    "        return self.__age\n",
    "    def set_age(self, age: int):   # public setter for age\n",
    "        age_ranges = {'camphor': {'lo': 0, 'hi': 800}, 'oak': {'lo': 0, 'hi': 300}, 'banyan': {'lo': 0, 'hi': 500}}\n",
    "        if age < age_ranges[self.__breed]['lo'] or age > age_ranges[self.__breed]['hi']:\n",
    "            raise Exception('樹齡數字不合理。')\n",
    "        else:  # 放行\n",
    "            self.__age = age\n"
   ]
  },
  {
   "cell_type": "markdown",
   "metadata": {},
   "source": [
    "<div style=\"font-size: 150%; color:rgb(75, 150, 197); font-weight: 600;\">透過公開方法存取私有屬性-4</div>\n",
    "\n",
    "<div style=\"font-family: 'Inconsolata', 'Noto Sans TC'; font-size: 115%; color: DAE8E8; font-weight: 400; line-height: 130%\">\n",
    "\n",
    "* 這次類別內的set_age()加入了條件，用來過濾不合理的資料。為了簡潔聚焦，上面只示範set_age()，set_breed()和set_height()略過。\n",
    "* 主程式如果傳入不合理的樹齡數字，會給set_age()擋下來：\n"
   ]
  },
  {
   "cell_type": "code",
   "execution_count": 35,
   "metadata": {},
   "outputs": [
    {
     "name": "stdout",
     "output_type": "stream",
     "text": [
      "樹齡數字不合理。\n"
     ]
    }
   ],
   "source": [
    "try:\n",
    "    banyan = Tree(\"banyan\", 450, 37)\n",
    "    print(banyan.get_age())\n",
    "    print(f\"before: {banyan.get_age()=}\")\n",
    "    banyan.set_age(501)   # 傳入超出合理範圍的值。\n",
    "    print(f\"after : {banyan.get_age()=}\")\n",
    "except Exception as e:\n",
    "    print(e)"
   ]
  },
  {
   "cell_type": "code",
   "execution_count": 42,
   "metadata": {},
   "outputs": [
    {
     "name": "stdout",
     "output_type": "stream",
     "text": [
      "before set_age(): camphor.get_age()=50\n",
      "after set_age() : camphor.get_age()=800\n"
     ]
    }
   ],
   "source": [
    "# 傳給set_age()的參數在合理範圍之內時：\n",
    "try:\n",
    "    camphor = Tree(\"camphor\", 50, 37)\n",
    "    print(f\"before set_age(): {camphor.get_age()=}\")\n",
    "    camphor.set_age(800)    # 這次傳入在合理範圍(0-800)以內的值給set_age()\n",
    "except Exception as e:\n",
    "    print(e)\n",
    "finally:\n",
    "    print(f\"after set_age() : {camphor.get_age()=}\")\n",
    "# 結果成功修改了age屬性的值。"
   ]
  },
  {
   "cell_type": "code",
   "execution_count": null,
   "metadata": {},
   "outputs": [],
   "source": [
    "class Tree:\n",
    "    def __init__(self, breed: str, age: int, height: int):\n",
    "        self.__breed = breed       # private\n",
    "        self.__age = 0             # 註1\n",
    "        self.set_age(age)          # private\n",
    "        self.__height = height     # private\n",
    "    def set_age(self, age: int):\n",
    "        ..."
   ]
  },
  {
   "cell_type": "markdown",
   "metadata": {},
   "source": [
    "<div style=\"font-size: 150%; color:rgb(75, 150, 197); font-weight: 600;\">註1</div>\n",
    "\n",
    "<div style=\"font-family: 'Inconsolata', 'Noto Sans TC'; font-size: 115%; color: DAE8E8; font-weight: 400; line-height: 130%\">\n",
    "\n",
    "> I think the statement `self.__age = 0` within `__init__()` can be omitted. It seems no need to initialize the `self.__age` before calling `set_age()`. Is my understanding correct?\n",
    "* In principle, you're correct that we could potentially omit the initialization of `self.__age = 0` before calling `set_age()`. The reason is that `set_age()` will unconditionally set `self.__age` to a value when it completes successfully.\n",
    "* However, there are several reasons why initializing `self.__age = 0` is still considered good practice:\n",
    "    1. **Code clarity**: Initializing all attributes in `__init__()` makes it immediately clear which attributes belong to the class.\n",
    "    2. **Defensive programming**: If there's an error in `set_age()` before it reaches the assignment statement, having a default value ensures the object is still in a valid state.\n",
    "    3. **Static analysis**: Many code analysis tools and IDEs can better understand your code when all attributes are explicitly initialized.\n",
    "    4. **Documentation**: It serves as implicit documentation about the class structure.\n",
    "    5. **Safety in inheritance**: If a subclass overrides `set_age()` but forgets to set self.__age, having the default initialization provides a safety net.\n",
    "* If we were to implement `__init__` with your suggestion:\n",
    "\n",
    "    ```\n",
    "    def __init__(self, breed: str, age: int, height: int):\n",
    "        self.__breed = breed       # private\n",
    "        # No initialization of self.__age here\n",
    "        self.__height = height     # private\n",
    "        self.set_age(age)          # set_age will initialize self.__age\n",
    "    ```\n",
    "    This would work functionally, but it's slightly less robust than initializing all attributes.    \n"
   ]
  },
  {
   "cell_type": "markdown",
   "metadata": {},
   "source": [
    "<div style=\"font-size: 150%; color:rgb(75, 150, 197); font-weight: 600;\">透過公開方法存取私有屬性-5</div>\n",
    "\n",
    "<div style=\"font-family: 'Inconsolata', 'Noto Sans TC'; font-size: 115%; color: DAE8E8; font-weight: 400; line-height: 130%\">\n",
    "\n",
    "* 事實上setters的控制可以更加精密嚴謹，例如除數字範圍外，說不定還可以偵測當時的時間，正常上班以外的時間都不允許程式修改資料，或者任何想得到做得到的檢查控制邏輯，都可以放入setters中。\n",
    "* 這樣設計，是否就比將屬性設為public，交由完全沒有攔阻功能的`物件.屬性 = ???`直接賦值安全多了？\n",
    "* 個人認為，這是OO中encapsulation「封裝」的精義。\n",
    "* 愚見：個人或團隊開發的系統，不一定要封裝得如些嚴密。但如果是開發給別人使用的套件或模組，就得非常慎重，做好妨呆兼妨災工作。\n"
   ]
  },
  {
   "cell_type": "markdown",
   "metadata": {},
   "source": [
    "<div style=\"font-size: 150%; color:rgb(75, 150, 197); font-weight: 600;\">封裝層級小結</div>\n",
    "\n",
    "<div style=\"font-family: 'Inconsolata', 'Noto Sans TC'; font-size: 115%; color: DAE8E8; font-weight: 400; line-height: 130%\">\n",
    "\n",
    "* Python類別的屬性和方法都有public公開和private私有兩個封裝層級。至於protected這層，只是約定俗成，不提也罷。\n",
    "* 公開的屬性和方法是開放給外部，以<font color=Gold>物件.屬性</font>或<font color=Gold>物件.方法</font>表示式存取。其名稱無前綴底線。\n",
    "* 私有的屬性和方法僅供類別內部享用，不可以用<font color=Gold>物件.屬性</font>或<font color=Gold>物件.方法</font>的方式在外部存取。\n",
    "* 屬性請多用private，方法則多用public。\n",
    "* ..."
   ]
  },
  {
   "cell_type": "code",
   "execution_count": null,
   "metadata": {},
   "outputs": [],
   "source": [
    "class Tree:\n",
    "    def show_tree1():\n",
    "        return 'show_tree1()'\n",
    "    def show_tree2(self):\n",
    "        return 'show_tree2()'\n",
    "\n",
    "print(1, Tree.show_tree1())\n",
    "print(2, Tree().show_tree1())\n",
    "print(3, Tree.show_tree2())\n",
    "print(4, Tree().show_tree2())\n",
    "\n",
    "# 以上4行code哪些會產生Exception？\n",
    "# A) 1, 2\n",
    "# B) 1, 3\n",
    "# C) 1, 4\n",
    "# D) 2, 3\n",
    "# E) 2, 4\n",
    "# F) 3, 4"
   ]
  },
  {
   "cell_type": "markdown",
   "metadata": {},
   "source": [
    "<div style=\"font-size: 150%; color:rgb(75, 150, 197); font-weight: 600;\">私有屬性這話題還未完...</div>\n",
    "\n",
    "<div style=\"font-family: 'Inconsolata', 'Noto Sans TC'; font-size: 115%; color: DAE8E8; font-weight: 400; line-height: 130%\">\n",
    "\n",
    "* 剛才花了很大力氣，設法釐清私有屬性無法用`物件.屬性`的方式存取(註1)，必須利用由類別提供的公開方法(getters和setters)。\n",
    "* 但是，這又引發另一個問題。稱問題也許太過沉重，就說是個小小的不便吧。\n",
    "* 有甚麼不便之處？各位試想：一般變數可以直接用名稱取值如`print(f'{tree_keeper=}')`、直接以`=`賦值如`tree_keeper = 'Audrey Hepburn'`。而自訂類別中的私有屬性，卻必須透過getters和setters方法取值賦值，存取方式明顯不如一般變數簡單和直觀："
   ]
  },
  {
   "cell_type": "code",
   "execution_count": 43,
   "metadata": {},
   "outputs": [
    {
     "name": "stdout",
     "output_type": "stream",
     "text": [
      "tree_keeper='Ingrid Bergman'\n",
      "tree_keeper='Audrey Hepburn'\n",
      "tree.get_age()=50\n",
      "tree.get_age()=700\n"
     ]
    }
   ],
   "source": [
    "class Tree:\n",
    "    def __init__(self, breed: str, age: int, height: int):\n",
    "        self.__breed = breed        # private attribute\n",
    "        self.__age = 0              # initialization\n",
    "        self.set_age(age)\n",
    "        self.__height = height      # private attribute\n",
    "    def get_age(self) -> int:       # public getter for age\n",
    "        return self.__age\n",
    "    def set_age(self, age: int):   # public setter for age\n",
    "        age_ranges = {'camphor': {'lo': 0, 'hi': 800}, 'oak': {'lo': 0, 'hi': 300}, 'banyan': {'lo': 0, 'hi': 500}}\n",
    "        if age < age_ranges[self.__breed]['lo'] or age > age_ranges[self.__breed]['hi']:\n",
    "            raise Exception('樹齡數字不合理。')\n",
    "        else:  # 放行\n",
    "            self.__age = age\n",
    "\n",
    "\n",
    "tree_keeper = 'Ingrid Bergman'\n",
    "print(f'{tree_keeper=}')         # 一般變數可以直接取值。\n",
    "tree_keeper = 'Audrey Hepburn'   # 一般變數可以直接賦值。\n",
    "print(f'{tree_keeper=}')\n",
    "\n",
    "tree = Tree('camphor', 50, 37)\n",
    "print(f'{tree.get_age()=}')      # 物件的私有屬性要動用getter取值。\n",
    "tree.set_age(700)                # 物件的私有屬性要動用setter賦值。\n",
    "print(f'{tree.get_age()=}')"
   ]
  },
  {
   "cell_type": "markdown",
   "metadata": {},
   "source": [
    "<div style=\"font-size: 150%; color:rgb(75, 150, 197); font-weight: 600;\">Property該出場了</div>\n",
    "\n",
    "<div style=\"font-family: 'Inconsolata', 'Noto Sans TC'; font-size: 115%; color: DAE8E8; font-weight: 400; line-height: 130%\">\n",
    "\n",
    "* 有沒有可能讓自訂類別中私有屬性的存取，一方面受到嚴密保護，另一方面使用時享有和一般變數相同的存取方式？如果可能，不是更加方便嗎？\n",
    "* 需求為創新之母，可以滿足這個需求的property，這時該出場亮相了。\n",
    "* 聽起來，property是個多麼神奇的機制呀。您說神奇當然沒錯，不過骨子裡它只是程式語言的一顆「語法糖」(註2)耳。\n",
    "* Property這顆語法糖不是Python獨有，其他一些物件導向的程式語言也有供應。它的具體做法，是將getter和setter方法「偽裝」成attribute。可謂「掛attribute頭賣method肉」。\n",
    "* 筆者到現在還沒有介紹property的中文譯名，是有意為之。太早說明怕讀者被譯名搞胡塗，原因是property中文也譯作「屬性」。沒錯，就和attribute的中譯同名。所以各位千萬得注意，中文的「屬性」一詞其實是歧義(ambiguous)的，時而指涉attribute，時而卻是property。\n",
    "* 最好的辨識方法，是直接看英文。如無英文可看，則從上下文推敲。\n",
    "* 為免混淆，本系列文章property一律直接用英文不中譯，中文的「屬性」則專指attribute。"
   ]
  },
  {
   "cell_type": "markdown",
   "metadata": {},
   "source": [
    "<div style=\"font-size: 150%; color:rgb(75, 150, 197); font-weight: 600;\">如何實作Property-1</div>\n",
    "\n",
    "<div style=\"font-family: 'Inconsolata', 'Noto Sans TC'; font-size: 115%; color: DAE8E8; font-weight: 400; line-height: 130%\">\n",
    "\n",
    "* Python的property機制，是利用內建的property()函數實作。\n",
    "* 和print(), type()等內建函數一樣，使用property()不必import任何模組，直接用就行。\n",
    "* 範例：\n"
   ]
  },
  {
   "cell_type": "code",
   "execution_count": null,
   "metadata": {},
   "outputs": [
    {
     "name": "stdout",
     "output_type": "stream",
     "text": [
      "<class 'property'>\n",
      "tree.breed='cedar'\n",
      "aa: tree.age=150\n",
      "錯誤訊息：樹齡數字不合理。\n",
      "cc: tree.age=150\n"
     ]
    }
   ],
   "source": [
    "class Tree:\n",
    "    def __init__(self, breed: str, age: int):\n",
    "        self.__breed = breed   # __breed和__age是private attribute。\n",
    "        self.__age = age       # 有些人會錯用「一條」前綴底線來代表private。\n",
    "    def __get_breed(self) -> str:     # private getter\n",
    "        return self.__breed\n",
    "    def __get_age(self) -> int:       # private getter\n",
    "        return self.__age\n",
    "    def __set_age(self, age: int):    # private setter\n",
    "        if age > 15000 or age < 0:\n",
    "            raise Exception('樹齡數字不合理。')\n",
    "        self.__age = age\n",
    "    def __del_age(self):              # private deleter(較少用)\n",
    "        del self.__age\n",
    "\n",
    "    # 以下就是property了，請「畫重點」。\n",
    "    # fget, fset, fdel都是property()的關鍵字參數。顧名思義，不必解釋。\n",
    "    # Both breed and age are properties，NOT attributes。\n",
    "    breed = property(fget=__get_breed)    # properties基本上都是public。\n",
    "    age = property(fget=__get_age, fset=__set_age, fdel=__del_age)\n",
    "\n",
    "\n",
    "try:\n",
    "    tree = Tree('cedar', 150)      # 建立物件時設定初值：雪松, 150歲。\n",
    "    print(f'{tree.breed=}')        # 貌似attribute，實則property。\n",
    "    print(f'aa: {tree.age=}')\n",
    "    tree.age = -100                # 賦值(這裡會產生Exception)。\n",
    "    print(f'bb: {tree.age=}')      # 這行沒有機會執行。\n",
    "except Exception as e:\n",
    "    print(f'錯誤訊息：{str(e)}')\n",
    "finally:\n",
    "    print(f'cc: {tree.age=}')\n"
   ]
  },
  {
   "cell_type": "markdown",
   "metadata": {},
   "source": [
    "<div style=\"font-size: 150%; color:rgb(75, 150, 197); font-weight: 600;\">如何實作Property-2</div>\n",
    "\n",
    "<div style=\"font-family: 'Inconsolata', 'Noto Sans TC'; font-size: 115%; color: DAE8E8; font-weight: 400; line-height: 130%\">\n",
    " \n",
    "* 以上`tree.breed`中的`breed`，以及`tree.age`中的`age`，名稱前無前綴底線，看來是公開屬性(public attributes)，其實都是properties。\n",
    "* `print(f'{tree.breed=}')`和`tree.age = -100`的寫法，和存取普通變數**形式一致**，相當直觀。\n",
    "* `print(f'{tree.breed=}')`中的`tree.breed`，骨子裡是呼叫類別內部的私有方法`__get_breed()`。\n",
    "* 同樣道理，`tree.age = -100`其實是呼叫類別內部的私有方法`__set_age()`。執行這行時，-100超出設定的合理範圍，因而觸發Exception。所以`print(f'bb: {tree.age=}')`這行不會執行，直接跳到finally區塊。\n",
    "* 以上是Python的property入門。下面介紹property更「聰明進階」的用法。\n"
   ]
  },
  {
   "cell_type": "markdown",
   "metadata": {},
   "source": [
    "<div style=\"font-size: 150%; color:rgb(75, 150, 197); font-weight: 600;\">...</div>\n",
    "\n",
    "<div style=\"font-family: 'Inconsolata', 'Noto Sans TC'; font-size: 115%; color: DAE8E8; font-weight: 400; line-height: 130%\">\n",
    "\n",
    "昨天介紹了Object-Oriented程式語言中property的基本概念，以及Python實作property的方式：property()函數。今天property()進化了，成為property decorator(註1)。\n",
    "\n",
    "---\n",
    " \n",
    "* Python的property()可以作為decorator(中文稱為「裝飾器」)。使用decorators可快速建立類別內的properties。注意這裡用複數，意即多個或所有properties。\n",
    "* 使用property decorator和使用property()函數一樣，不必import甚麼東西，直接用即可，方便得很。\n",
    "* 將property()作為decorator，是**Python社群目前的主流**用法。\n",
    "* Property decorator版的Tree()類別定義：\n",
    "    ```python\n",
    "    class Tree:\n",
    "        '''Property Decorator範例'''\n",
    "        def __init__(self, breed: str, age: int):   # constructor\n",
    "            self.__breed = breed     # private attribute\n",
    "            self.__age = age         # private attribute\n",
    "\n",
    "        @property\n",
    "        def breed(self) -> str:\n",
    "            '''The breed property(getter).'''\n",
    "            return self.__breed   \n",
    "\n",
    "        @breed.setter\n",
    "        def breed(self, breed: str):\n",
    "            '''The breed property(setter).'''\n",
    "            if not isinstance(breed, str):\n",
    "                raise TypeError('樹種必須是字串。')\n",
    "\n",
    "            breeds = {'cedar': (0, 5_000), 'oak': (0, 300), \n",
    "                      'beech': (0, 400), 'camphor': (0, 800), \n",
    "                      'maple': (0, 500), 'phoebe': (0, 2_000)}\n",
    "\n",
    "            breed = breed.strip().lower()\n",
    "            if breed not in breeds:\n",
    "                raise Exception(f\"樹種名稱'{breed}'不正確。\")\n",
    "            self.__breed = breed\n",
    "\n",
    "        @breed.deleter\n",
    "        def breed(self):\n",
    "            '''The breed property(deleter).'''\n",
    "            if self.__age > 1_000:\n",
    "                raise Exception('千年古樹禁止砍伐。')\n",
    "            del self.__breed\n",
    "\n",
    "        @property\n",
    "        def age(self) -> int:\n",
    "            '''The age property(getter).'''\n",
    "            return self.__age\n",
    "\n",
    "        @age.setter\n",
    "        def age(self, age: int):\n",
    "            '''The age property(setter).'''\n",
    "            if not isinstance(age, int):\n",
    "                raise TypeError('樹齡必須是整數。')\n",
    "            # 以下的條件判斷只是「示意」，實際上該和breed一併考慮才對。\n",
    "            if age > 15_000 or age < 0:\n",
    "                raise Exception(f'樹齡數字{age}不合理。')\n",
    "            self.__age = age\n",
    "\n",
    "        @age.deleter\n",
    "        def age(self):\n",
    "            '''The age property(deleter).'''\n",
    "            del self.__age\n",
    "    ```        \n",
    "* 開始逐段說明。為求精簡僅說明breed部分，age請類推：\n",
    "    1. 設定property及其getter:\n",
    "    ```python\n",
    "        @property\n",
    "        def breed(self):\n",
    "            \"\"\"The breed property(getter).\"\"\"\n",
    "            return self.__breed   \n",
    "    ```\n",
    "    * `@property`就是一個decorator。意思是依憑其下的`breed()`方法，先創造一個同名的`breed` property，然後將`breed()`方法變成property的getter。\n",
    "\n",
    "   ---\n",
    "   2. 設定setter:\n",
    "    ```python\n",
    "        @breed.setter\n",
    "        def breed(self, breed: str):\n",
    "            \"\"\"The breed property(setter).\"\"\"\n",
    "            if not isinstance(breed, str):\n",
    "                raise TypeError('樹種必須是字串。')\n",
    "\n",
    "            breeds = {'cedar': (0, 5_000), 'oak': (0, 300), \n",
    "                      'beech': (0, 400), 'camphor': (0, 800), \n",
    "                      'maple': (0, 500), 'phoebe': (0, 2_000)}\n",
    "            breed = breed.strip().lower()\n",
    "            if breed not in breeds:\n",
    "                raise Exception('樹種名稱不正確。')\n",
    "            self.__breed = breed\n",
    "    ```\n",
    "    * `@breed.setter`一目了然，當然是將其下的`breed()`變成setter。 \n",
    "    * 注意方法內有判斷條件。不是賦予字串、或字串不在樹種清單內，都不存入而是觸發(raise)某個Exception(註3)。\n",
    "       \n",
    "    ---\n",
    "    3. 設定deleter: \n",
    "    ```python\n",
    "        @breed.deleter\n",
    "        def breed(self):\n",
    "            \"\"\"The breed property(deleter).\"\"\"\n",
    "            if self.__age > 1_000:\n",
    "                raise Exception('千年古樹禁止砍伐。')\n",
    "            del self.__breed\n",
    "    ```\n",
    "    * deleter之前沒怎麼提及。顧名思義，就是讓使用者以操作普通變數的方式，用Python的del指令來刪除物件的(私有)屬性。\n",
    "    * 當然要刪除前加上任何條件都悉從遵便。像本例就限制千年以上古樹不可刪除。\n",
    "* 整體說明與討論：\n",
    "    * 和昨天的property()函數相比，**decorator版的property清爽潔淨，更加直觀**。\n",
    "    * 相信各位已經注意到，加上decorator之後，不管是getter, setter, 或deleter，**方法名稱竟然都一模一樣**(註2)。例如樹種的xx'ers都稱為`breed()`，樹齡則都叫`age()`。這點和一般Python程式同名變數或函數，後者蓋掉前者的行為模式不同。\n",
    "    * 再打個比方：property好比筆者常吃的韭菜水餃和青葱水餃，表皮相同，內餡各異。表皮是使用者看得見摸得到的部分，內餡則無法從外觀看出，吃進去方知不同。不知這個比喻是否恰當。\n",
    "\n",
    "---\n",
    "* 主程式：\n",
    "    ```python\n",
    "    try:\n",
    "        tree = Tree('cedar', 1_250)   # 建立物件時設定初值：雪松, 1250歲\n",
    "        # 請記住breed是property，非attribute。\n",
    "        print(f'\\n物件初值：{tree.breed=:15}{tree.age=:,}')\n",
    "\n",
    "        # 這行實際上是執行breed的setter。因123是整數不是字串，\n",
    "        # 會觸發Exception，直接跳到finally區塊。\n",
    "        tree.breed = 123      # breed型別不能是int。\n",
    "\n",
    "        # 因上一行產生Exception，從下行起try block的code通通略過不跑。\n",
    "        print(f'修改樹種後：{tree.breed=}')           # 不會執行。\n",
    "\n",
    "        # 雖然4500是cedar的合法樹齡(cedar設定最多5000歲)，可是下行根本沒執行，\n",
    "        # 所以樹齡維持原樣沒有更動。\n",
    "        tree.age = 4_500                              # 不會執行。\n",
    "        print(f'修改樹齡後：{tree.age=:,}')           # 不會執行。\n",
    "    except Exception as e:\n",
    "        print(f'錯誤訊息：{str(e)}')\n",
    "    finally:\n",
    "        print(f'最後結果：{tree.breed=:15}{tree.age=:,}')\n",
    "    ```\n",
    "* 由於類別中breed的setter檢查傳入參數的型別(就是`if not isinstance(breed, str):`這行)：\n",
    "    ![https://ithelp.ithome.com.tw/upload/images/20240115/20148485lKohSutiCH.png](https://ithelp.ithome.com.tw/upload/images/20240115/20148485lKohSutiCH.png)\n",
    "主程式在賦值時用`tree.breed = 123`，型別不對，產生Exception。表示setter守土有功，攔阻了不正確資料。 \n",
    "   ![https://ithelp.ithome.com.tw/upload/images/20220926/201484851XdoswpGkU.png](https://ithelp.ithome.com.tw/upload/images/20220926/201484851XdoswpGkU.png)\n",
    "* 如果將`tree.breed = 123`這行改為`tree.breed = 'rubber'`，因rubber橡膠樹不在類別設定好的樹種清單中(見下圖)：\n",
    "    ![https://ithelp.ithome.com.tw/upload/images/20240115/20148485ieRoNdeNBK.png](https://ithelp.ithome.com.tw/upload/images/20240115/20148485ieRoNdeNBK.png)\n",
    "因而觸發另一個Exception：\n",
    "    ![https://ithelp.ithome.com.tw/upload/images/20220926/20148485oaHdg9hYV9.png](https://ithelp.ithome.com.tw/upload/images/20220926/20148485oaHdg9hYV9.png)\n",
    "\n",
    "* 賦予正確的樹種，才更改成功：\n",
    "    ```python\n",
    "    try:\n",
    "        tree = Tree('cedar', 1_250)   # 建立物件時設定初值：雪松, 1250歲\n",
    "        # 請記住breed是property，非attribute。\n",
    "        print(f'\\n物件初值：{tree.breed=:15}{tree.age=:,}')\n",
    "\n",
    "        # 這行實際上是執行breed的setter。\n",
    "        tree.breed = 'maple'     # 'maple'有在樹種清單中。\n",
    "        print(f'修改樹種後：{tree.breed=}')\n",
    "    except Exception as e:\n",
    "        print(f'錯誤訊息：{str(e)}')\n",
    "    finally:\n",
    "        print(f'最後結果：{tree.breed=:15}{tree.age=:,}')\n",
    "    ```\n",
    "    輸出：\n",
    "        ![https://ithelp.ithome.com.tw/upload/images/20220926/2014848568eUz98E2A.png](https://ithelp.ithome.com.tw/upload/images/20220926/2014848568eUz98E2A.png)\n",
    "* 至於修改樹種後，新樹種超過其樹齡上限(maple楓樹設定最多只有500歲)，是另一個問題。表示setter的邏輯還不夠嚴謹，要回頭加強setter的判斷條件。以下是可能的改善方法之一：\n",
    "    ```python\n",
    "        @breed.setter\n",
    "        def breed(self, breed: str):\n",
    "            \"\"\"The breed property(setter).\"\"\"\n",
    "            if not isinstance(breed, str):\n",
    "                raise TypeError('樹種必須是字串。')\n",
    "\n",
    "            breeds = {'cedar': (0, 5_000), 'oak': (0, 300), \n",
    "                      'beech': (0, 400), 'camphor': (0, 800), \n",
    "                      'maple': (0, 500), 'phoebe': (0, 2_000)}\n",
    "            breed = breed.strip().lower()\n",
    "            if breed not in breeds:\n",
    "                raise Exception(f\"樹種名稱'{breed}'不正確。\")\n",
    "            min_age = breeds.get(breed)[0]\n",
    "            max_age = breeds.get(breed)[1]\n",
    "            if self.__age < min_age or self.__age > max_age:\n",
    "                raise Exception(f\"新樹種名稱'{breed}'和其年齡不匹配。\")\n",
    "            self.__breed = breed\n",
    "    ```\n",
    "    輸出：\n",
    "        ![https://ithelp.ithome.com.tw/upload/images/20220926/201484850TZT6TjlRs.png](https://ithelp.ithome.com.tw/upload/images/20220926/201484850TZT6TjlRs.png)\n",
    "\n",
    "這樣即可攔阻存入新樹種後，和其樹齡不匹配問題。\n",
    "\n",
    "今天到此為止，明天繼續講property的剩餘部分。\n",
    "\n",
    "---\n",
    "\n",
    "註1: Decorator(裝飾器)是Python的「特異功能」之一。不過和本系列主題較無關係。簡述如下：Decorator是Python的一種功能強大機制(有人稱之為設計模式design pattern)。它可以讓使用者針對某個已存在的結構(例如函數、類別)「外掛」功能，而不須修改結構內部的程式碼。Decorator通常位於它欲「裝飾」的函數、類別之前，而且必須前綴`@`符號以資識別。\n",
    "\n",
    "註2: 物件導向領域中，有另一術語曰`overloading`，其中譯筆者愛用「同名異式」。但細心觀察，Python的property decorator並非overloading。至於overloading的具體內容，容後詳述。\n",
    "\n",
    "註3: Exception的中文台灣多譯為「例外」，筆者則傾向使用「異常」。"
   ]
  },
  {
   "cell_type": "markdown",
   "metadata": {},
   "source": [
    "<div style=\"font-size: 150%; color:rgb(75, 150, 197); font-weight: 600;\">...</div>\n",
    "\n",
    "<div style=\"font-family: 'Inconsolata', 'Noto Sans TC'; font-size: 115%; color: DAE8E8; font-weight: 400; line-height: 130%\">\n",
    "\n",
    "\n",
    "* 在正式介紹前，各位請沿用以上Tree類別，設想一下這個需求：\n",
    "    * 使用者已利用Tree類別建立了一些樹的實例(instances)。如果資料不存入任何外部檔案或資料庫，如何得知在程式某一階段已經建立了「多少棵樹」？\n",
    "    * 如何求取所有已建立的樹的平均樹齡？\n",
    "* 利用之前講過的知識和技術，上述兩個「簡單」問題，處理起來還真有點不簡單。問題在於：每棵樹都是獨立個體，樹與樹之間好像並無甚麼關連可供計算。\n",
    "* 難道要像以下的code，竟然出動到一些外部變數去記錄和計算樹的數目和平均樹齡？唔，這顯然不是個好辦法(註2)。\n",
    "\n",
    "    ```python\n",
    "    class Tree:\n",
    "        def __init__(self, breed: str, age: int):   \n",
    "            self.__breed = breed\n",
    "            self.__age = age\n",
    "\n",
    "        @property\n",
    "        def breed(self) -> str:\n",
    "            '''The breed property(getter).'''\n",
    "            return self.__breed\n",
    "\n",
    "        @property\n",
    "        def age(self) -> int:   \n",
    "            '''The age property(getter).'''\n",
    "            return self.__age\n",
    "\n",
    "\n",
    "    def show_count_and_average(count: int, total_age: int):\n",
    "        print(f'{count=:<10,}{total_age=:<10,}average={total_age / count:,.2f}')\n",
    "\n",
    "    tree_count = 0         # 利用類別外部的變數記錄樹的數目。\n",
    "    total_tree_age = 0     # 記錄總樹齡。\n",
    "\n",
    "    tree1 = Tree('Cedar', 1_520)\n",
    "    tree_count += 1\n",
    "    total_tree_age += tree1.age\n",
    "    show_count_and_average(tree_count, total_tree_age)\n",
    "\n",
    "    tree2 = Tree('oak', 357)\n",
    "    tree_count += 1\n",
    "    total_tree_age += tree2.age\n",
    "    show_count_and_average(tree_count, total_tree_age)\n",
    "\n",
    "    tree3 = Tree('phoebe', 1806)\n",
    "    tree_count += 1\n",
    "    total_tree_age += tree3.age\n",
    "    show_count_and_average(tree_count, total_tree_age)\n",
    "    ```\n",
    "    輸出：\n",
    "    ![https://ithelp.ithome.com.tw/upload/images/20220930/20148485ibLVRZr1Rk.png](https://ithelp.ithome.com.tw/upload/images/20220930/20148485ibLVRZr1Rk.png)\n",
    "* 也許您會說：不是有人說過一句名言「不管黑貓白貓，捉到老鼠就是好貓」嗎？需求能夠達成就好。\n",
    "\n",
    "## 好貓不是每次都捉到老鼠\n",
    "\n",
    "* 我不知道以上這隻貓是黑是白，但我敢說它不小心讓老鼠跑掉的機會不小。因為寫程式的貓，不，是寫程式的人只要一個不留神，少算一次，答案就不正確。這是非常「不靠譜」的做法。\n",
    "* 鑼鼓聲中，今天的正印花旦「**類別屬性**」踩著蹺，以優美身段踏出虎度門：\n",
    "    ```python\n",
    "    class Tree:\n",
    "        count = 0         # 放在constructor外面的是class attributes。\n",
    "        total_age = 0 \n",
    "        average_age = 0    \n",
    "        def __init__(self, breed: str, age: int):   \n",
    "            self.__breed = breed\n",
    "            self.__age = age\n",
    "\n",
    "            Tree.count += 1          # class attributes是用Tree.xxx而非self.xxx\n",
    "            Tree.total_age += self.age\n",
    "            Tree.average_age = round(Tree.total_age / Tree.count, 2)\n",
    "\n",
    "        @property\n",
    "        def breed(self) -> str:\n",
    "            '''The breed property(getter).'''\n",
    "            return self.__breed\n",
    "\n",
    "        @property\n",
    "        def age(self) -> int:   \n",
    "            '''The age property(getter).'''\n",
    "            return self.__age\n",
    "\n",
    "\n",
    "    def show_count_and_average(count: int, total_age: int):\n",
    "        print(f'{count=:<10,}{total_age=:<10,}average={total_age / count:,.2f}')\n",
    "\n",
    "    tree1 = Tree('Cedar', 1_520)\n",
    "    \n",
    "    # Tree.count和tree1.count指向的是同一塊memory。這裡筆者故意寫作show_count_and_average(Tree.count, tree1.total_age)，其實show_...(Tree.count, Tree.total_age)，show_...(tree1.count, Tree.total_age)，或者show_...(tree1.count, tree1.total_age)都可以。當然最理想的表示式應該是show_count_and_average(Tree.count, Tree.total_age)，明確指出count和total_age這兩個attributes的位階都是class level。\n",
    "    show_count_and_average(Tree.count, tree1.total_age)  \n",
    "\n",
    "    tree2 = Tree('oak', 357)\n",
    "    show_count_and_average(tree2.count, Tree.total_age)\n",
    "\n",
    "    tree3 = Tree('phoebe', 1806)\n",
    "    show_count_and_average(tree1.count, tree1.total_age)\n",
    "    ```\n",
    "    以上這個「類別屬性」版，輸出和「外部變數版」完全相同：\n",
    "    ![https://ithelp.ithome.com.tw/upload/images/20220930/20148485ibLVRZr1Rk.png](https://ithelp.ithome.com.tw/upload/images/20220930/20148485ibLVRZr1Rk.png) \n",
    "\n",
    "## 屬性其實有兩種\n",
    "\n",
    "* 「斯斯」有兩種，「屬性」也有兩種：\n",
    "    * 實例屬性(instance attributes, 就是本篇之前講的那些屬性)，每一個實例(物件)都有一份，是實例自己的「私房錢」，別的實例休想分它一杯羹。\n",
    "    * 類別屬性(class attributes, class level attributes, 或稱static attributes)。這些屬性**在整個類別中「僅此一家，別無分號」，它們依附於類別本身**，不歸類別內任一物件(實例)管轄。\n",
    "* 所有透過該類別建立的物件(註3)可共享類別屬性。\n",
    "* 所謂「共享」就是透過「物件.屬性」的表示式存取。\n",
    "* 也可以透過類別本身，即「**類別.屬性**」(建議寫法)表示式直接存取。\n",
    "* 不管是經由物件或類別本身，都得遵從以上說過的封裝保護層級的原則。\n",
    "\n",
    "## Class Attributes的位置\n",
    "* 以前我們寫實例屬性時，都將屬性的初值設定放在建構子constructor之內。但是類別屬性卻不一樣，它們**必須放在建構子的「外面」**，前置後置都行，就是**不能位於constructor裡面**：\n",
    "    ```python\n",
    "    class Tree:\n",
    "        count = 0      # 放在constructor外面(前置)的是class attributes。\n",
    "        total_age = 0 \n",
    "        average_age = 0    \n",
    "        def __init__(self, breed: str, age: int):   # constructor\n",
    "            ...\n",
    "    ```\n",
    "    或：\n",
    "    ```python\n",
    "    class Tree:\n",
    "        def __init__(self, breed: str, age: int):   # constructor\n",
    "            ...\n",
    "        count = 0      # 放在constructor外面(後置)的是class attributes。\n",
    "        total_age = 0 \n",
    "        average_age = 0    \n",
    "    ```\n",
    "* 不過，類別屬性一般都寫在**建構子的前面**。\n",
    "* 今天到此為止，有關類別屬性的其他細節，且聽下回分解。\n",
    "    \n",
    "---\n",
    "\n",
    "\n",
    "註1: 「封裝」這個主題，真要慢慢磨還有些小題目可以講，不過太過支節的東西並不適合納入本系列。先預告：在封裝的最後一講筆者真的要講個很支節的小題目，輕鬆一下。\n",
    "\n",
    "註2: 為了聚焦於今天的主題，前兩天介紹的dataclass decorator暫不使用，以傳統的方法來設計類別。\n",
    "\n",
    "註3: 我發覺講「實例」有點不自然，還是回歸「物件」好了。"
   ]
  },
  {
   "cell_type": "markdown",
   "metadata": {},
   "source": [
    "<div style=\"font-size: 150%; color:rgb(75, 150, 197); font-weight: 600;\">...</div>\n",
    "\n",
    "<div style=\"font-family: 'Inconsolata', 'Noto Sans TC'; font-size: 115%; color: DAE8E8; font-weight: 400; line-height: 130%\">\n",
    "\n",
    "* ...\n",
    "* ..."
   ]
  },
  {
   "cell_type": "markdown",
   "metadata": {},
   "source": [
    "<div style=\"font-size: 150%; color:rgb(75, 150, 197); font-weight: 600;\">...</div>\n",
    "\n",
    "<div style=\"font-family: 'Inconsolata', 'Noto Sans TC'; font-size: 115%; color: DAE8E8; font-weight: 400; line-height: 130%\">\n",
    "\n",
    "* ...\n",
    "* ..."
   ]
  },
  {
   "cell_type": "markdown",
   "metadata": {},
   "source": [
    "<div style=\"font-size: 150%; color:rgb(75, 150, 197); font-weight: 600;\">...</div>\n",
    "\n",
    "<div style=\"font-family: 'Inconsolata', 'Noto Sans TC'; font-size: 115%; color: DAE8E8; font-weight: 400; line-height: 130%\">\n",
    "\n",
    "* ...\n",
    "* ..."
   ]
  },
  {
   "cell_type": "markdown",
   "metadata": {},
   "source": [
    "<div style=\"font-size: 150%; color:rgb(75, 150, 197); font-weight: 600;\">...</div>\n",
    "\n",
    "<div style=\"font-family: 'Inconsolata', 'Noto Sans TC'; font-size: 115%; color: DAE8E8; font-weight: 400; line-height: 130%\">\n",
    "\n",
    "* ...\n",
    "* ..."
   ]
  },
  {
   "cell_type": "markdown",
   "metadata": {},
   "source": [
    "<div style=\"font-size: 150%; color:rgb(75, 150, 197); font-weight: 600;\">...</div>\n",
    "\n",
    "<div style=\"font-family: 'Inconsolata', 'Noto Sans TC'; font-size: 115%; color: DAE8E8; font-weight: 400; line-height: 130%\">\n",
    "\n",
    "* ...\n",
    "* ..."
   ]
  },
  {
   "cell_type": "markdown",
   "metadata": {},
   "source": [
    "<div style=\"font-size: 150%; color:rgb(75, 150, 197); font-weight: 600;\">...</div>\n",
    "\n",
    "<div style=\"font-family: 'Inconsolata', 'Noto Sans TC'; font-size: 115%; color: DAE8E8; font-weight: 400; line-height: 130%\">\n",
    "\n",
    "* ...\n",
    "* ..."
   ]
  },
  {
   "cell_type": "markdown",
   "metadata": {},
   "source": [
    "<div style=\"font-size: 150%; color:rgb(75, 150, 197); font-weight: 600;\">...</div>\n",
    "\n",
    "<div style=\"font-family: 'Inconsolata', 'Noto Sans TC'; font-size: 115%; color: DAE8E8; font-weight: 400; line-height: 130%\">\n",
    "\n",
    "* ...\n",
    "* ..."
   ]
  },
  {
   "cell_type": "markdown",
   "metadata": {},
   "source": [
    "<div style=\"font-size: 150%; color:rgb(75, 150, 197); font-weight: 600;\">...</div>\n",
    "\n",
    "<div style=\"font-family: 'Inconsolata', 'Noto Sans TC'; font-size: 115%; color: DAE8E8; font-weight: 400; line-height: 130%\">\n",
    "\n",
    "* ...\n",
    "* ..."
   ]
  },
  {
   "cell_type": "markdown",
   "metadata": {},
   "source": [
    "<div style=\"font-size: 150%; color:rgb(75, 150, 197); font-weight: 600;\">...</div>\n",
    "\n",
    "<div style=\"font-family: 'Inconsolata', 'Noto Sans TC'; font-size: 115%; color: DAE8E8; font-weight: 400; line-height: 130%\">\n",
    "\n",
    "* ...\n",
    "* ..."
   ]
  },
  {
   "cell_type": "markdown",
   "metadata": {},
   "source": [
    "<div style=\"font-size: 150%; color:rgb(75, 150, 197); font-weight: 600;\">...</div>\n",
    "\n",
    "<div style=\"font-family: 'Inconsolata', 'Noto Sans TC'; font-size: 115%; color: DAE8E8; font-weight: 400; line-height: 130%\">\n",
    "\n",
    "* ...\n",
    "* ..."
   ]
  },
  {
   "cell_type": "markdown",
   "metadata": {},
   "source": [
    "<div style=\"font-size: 150%; color:rgb(75, 150, 197); font-weight: 600;\">...</div>\n",
    "\n",
    "<div style=\"font-family: 'Inconsolata', 'Noto Sans TC'; font-size: 115%; color: DAE8E8; font-weight: 400; line-height: 130%\">\n",
    "\n",
    "* ...\n",
    "* ..."
   ]
  },
  {
   "cell_type": "markdown",
   "metadata": {},
   "source": [
    "<div style=\"font-size: 150%; color:rgb(75, 150, 197); font-weight: 600;\">...</div>\n",
    "\n",
    "<div style=\"font-family: 'Inconsolata', 'Noto Sans TC'; font-size: 115%; color: DAE8E8; font-weight: 400; line-height: 130%\">\n",
    "\n",
    "* ...\n",
    "* ..."
   ]
  },
  {
   "cell_type": "markdown",
   "metadata": {},
   "source": [
    "<div style=\"font-size: 150%; color:rgb(75, 150, 197); font-weight: 600;\">...</div>\n",
    "\n",
    "<div style=\"font-family: 'Inconsolata', 'Noto Sans TC'; font-size: 115%; color: DAE8E8; font-weight: 400; line-height: 130%\">\n",
    "\n",
    "* ...\n",
    "* ..."
   ]
  },
  {
   "cell_type": "markdown",
   "metadata": {},
   "source": [
    "<div style=\"font-size: 150%; color:rgb(75, 150, 197); font-weight: 600;\">...</div>\n",
    "\n",
    "<div style=\"font-family: 'Inconsolata', 'Noto Sans TC'; font-size: 115%; color: DAE8E8; font-weight: 400; line-height: 130%\">\n",
    "\n",
    "* ...\n",
    "* ..."
   ]
  },
  {
   "cell_type": "markdown",
   "metadata": {},
   "source": [
    "<div style=\"font-size: 150%; color:rgb(75, 150, 197); font-weight: 600;\">...</div>\n",
    "\n",
    "<div style=\"font-family: 'Inconsolata', 'Noto Sans TC'; font-size: 115%; color: DAE8E8; font-weight: 400; line-height: 130%\">\n",
    "\n",
    "* ...\n",
    "* ..."
   ]
  },
  {
   "cell_type": "markdown",
   "metadata": {},
   "source": [
    "<div style=\"font-size: 150%; color:rgb(75, 150, 197); font-weight: 600;\">...</div>\n",
    "\n",
    "<div style=\"font-family: 'Inconsolata', 'Noto Sans TC'; font-size: 115%; color: DAE8E8; font-weight: 400; line-height: 130%\">\n",
    "\n",
    "* ...\n",
    "* ..."
   ]
  },
  {
   "cell_type": "markdown",
   "metadata": {},
   "source": [
    "<div style=\"color: SteelBlue; font-family: 'Ubuntu Mono', 'Inconsolata', 'Noto Sans TC'; font-size: 300%; font-weight: 700;\">\n",
    "...\n",
    "</div>\n",
    "<br>\n",
    "<div style=\"font-family: 'Inconsolata', 'Noto Sans TC'; font-size: 135%; color: Gainsboro\">\n",
    "\n",
    "* ...\n",
    "* ...\n",
    "* ..."
   ]
  },
  {
   "cell_type": "markdown",
   "metadata": {},
   "source": [
    "<div style=\"font-size: 150%; color:rgb(75, 150, 197); font-weight: 600;\">...</div>\n",
    "\n",
    "<div style=\"font-family: 'Inconsolata', 'Noto Sans TC'; font-size: 115%; color: DAE8E8; font-weight: 400; line-height: 130%\">\n",
    "\n",
    "* ...\n",
    "* ..."
   ]
  },
  {
   "cell_type": "code",
   "execution_count": null,
   "metadata": {},
   "outputs": [],
   "source": [
    "class TypedProperty:\n",
    "    def __init__(self, name, type_, default=None):\n",
    "        self.name = \"_\" + name\n",
    "        # print(f'{self.name = }')\n",
    "        self.type = type_\n",
    "        self.default = default if default else type_()\n",
    "        print(f'{self.default = }')\n",
    "\n",
    "    def __get__(self, instance, cls):\n",
    "        return getattr(instance, self.name, self.default)\n",
    "\n",
    "    def __set__(self, instance, value):\n",
    "        if not isinstance(value, self.type):\n",
    "            raise TypeError(f\"Value must be of type {self.type.__name__}\")\n",
    "        setattr(instance, self.name, value)\n",
    "\n",
    "class MyClass:\n",
    "    name = TypedProperty(\"name\", str, int)\n",
    "    age = TypedProperty(\"age\", int)\n",
    "\n",
    "my_instance = MyClass()\n",
    "my_instance.name = \"Alex\"\n",
    "my_instance.age = 30\n",
    "\n",
    "my_instance.name"
   ]
  },
  {
   "cell_type": "code",
   "execution_count": null,
   "metadata": {},
   "outputs": [],
   "source": [
    "str()\n",
    "int()"
   ]
  },
  {
   "cell_type": "markdown",
   "metadata": {},
   "source": [
    "<div style=\"font-size: 150%; color:rgb(75, 150, 197); font-weight: 600;\">...</div>\n",
    "\n",
    "<div style=\"font-family: 'Inconsolata', 'Noto Sans TC'; font-size: 115%; color: DAE8E8; font-weight: 400; line-height: 130%\">\n",
    "\n",
    "* ...\n",
    "* ..."
   ]
  },
  {
   "cell_type": "markdown",
   "metadata": {},
   "source": [
    "<div style=\"font-size: 150%; color:rgb(75, 150, 197); font-weight: 600;\">...</div>\n",
    "\n",
    "<div style=\"font-family: 'Inconsolata', 'Noto Sans TC'; font-size: 115%; color: DAE8E8; font-weight: 400; line-height: 130%\">\n",
    "\n",
    "* ...\n",
    "* ..."
   ]
  },
  {
   "cell_type": "code",
   "execution_count": null,
   "metadata": {},
   "outputs": [],
   "source": [
    "def log_function(func):\n",
    "    import math\n",
    "    # print(func.__name__)\n",
    "    def wrapper(*args, **kwargs):\n",
    "        print(f'{type(func.__name__) = }')\n",
    "        result = func(*args, **kwargs)\n",
    "        # print(f'{func.__name__} returned {result}')\n",
    "        return result\n",
    "    return wrapper\n",
    "\n",
    "@log_function\n",
    "def add(x, y):\n",
    "    return x + y\n",
    "\n",
    "\n",
    "print(add(5,7))"
   ]
  },
  {
   "cell_type": "markdown",
   "metadata": {},
   "source": [
    "<div style=\"font-size: 150%; color:rgb(75, 150, 197); font-weight: 600;\">...</div>\n",
    "\n",
    "<div style=\"font-family: 'Inconsolata', 'Noto Sans TC'; font-size: 115%; color: DAE8E8; font-weight: 400; line-height: 130%\">\n",
    "\n",
    "* ...\n",
    "* ..."
   ]
  },
  {
   "cell_type": "markdown",
   "metadata": {},
   "source": [
    "<div style=\"font-size: 150%; color:rgb(75, 150, 197); font-weight: 600;\">...</div>\n",
    "\n",
    "<div style=\"font-family: 'Inconsolata', 'Noto Sans TC'; font-size: 115%; color: DAE8E8; font-weight: 400; line-height: 130%\">\n",
    "\n",
    "* ...\n",
    "* ..."
   ]
  },
  {
   "cell_type": "code",
   "execution_count": null,
   "metadata": {},
   "outputs": [],
   "source": []
  },
  {
   "cell_type": "markdown",
   "metadata": {},
   "source": [
    "<div style=\"font-size: 150%; color:rgb(75, 150, 197); font-weight: 600;\">...</div>\n",
    "\n",
    "<div style=\"font-family: 'Inconsolata', 'Noto Sans TC'; font-size: 115%; color: DAE8E8; font-weight: 400; line-height: 130%\">\n",
    "\n",
    "* ...\n",
    "* ..."
   ]
  },
  {
   "cell_type": "markdown",
   "metadata": {},
   "source": [
    "<div style=\"font-size: 150%; color:rgb(75, 150, 197); font-weight: 600;\">...</div>\n",
    "\n",
    "<div style=\"font-family: 'Inconsolata', 'Noto Sans TC'; font-size: 115%; color: DAE8E8; font-weight: 400; line-height: 130%\">\n",
    "\n",
    "* ...\n",
    "* ..."
   ]
  },
  {
   "cell_type": "code",
   "execution_count": null,
   "metadata": {},
   "outputs": [],
   "source": []
  },
  {
   "cell_type": "markdown",
   "metadata": {},
   "source": [
    "<div style=\"font-size: 150%; color:rgb(75, 150, 197); font-weight: 600;\">...</div>\n",
    "\n",
    "<div style=\"font-family: 'Inconsolata', 'Noto Sans TC'; font-size: 115%; color: DAE8E8; font-weight: 400; line-height: 130%\">\n",
    "\n",
    "* ...\n",
    "* ..."
   ]
  },
  {
   "cell_type": "markdown",
   "metadata": {},
   "source": [
    "<div style=\"font-size: 150%; color:rgb(75, 150, 197); font-weight: 600;\">...</div>\n",
    "\n",
    "<div style=\"font-family: 'Inconsolata', 'Noto Sans TC'; font-size: 115%; color: DAE8E8; font-weight: 400; line-height: 130%\">\n",
    "\n",
    "* ...\n",
    "* ..."
   ]
  },
  {
   "cell_type": "code",
   "execution_count": null,
   "metadata": {},
   "outputs": [],
   "source": []
  },
  {
   "cell_type": "markdown",
   "metadata": {},
   "source": [
    "<div style=\"font-size: 150%; color:rgb(75, 150, 197); font-weight: 600;\">...</div>\n",
    "\n",
    "<div style=\"font-family: 'Inconsolata', 'Noto Sans TC'; font-size: 115%; color: DAE8E8; font-weight: 400; line-height: 130%\">\n",
    "\n",
    "* ...\n",
    "* ..."
   ]
  }
 ],
 "metadata": {
  "kernelspec": {
   "display_name": "Python 3",
   "language": "python",
   "name": "python3"
  },
  "language_info": {
   "codemirror_mode": {
    "name": "ipython",
    "version": 3
   },
   "file_extension": ".py",
   "mimetype": "text/x-python",
   "name": "python",
   "nbconvert_exporter": "python",
   "pygments_lexer": "ipython3",
   "version": "3.12.8"
  }
 },
 "nbformat": 4,
 "nbformat_minor": 2
}
